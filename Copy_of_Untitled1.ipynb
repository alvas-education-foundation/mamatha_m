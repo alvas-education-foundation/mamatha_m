{
  "nbformat": 4,
  "nbformat_minor": 0,
  "metadata": {
    "colab": {
      "name": "Copy of Untitled1.ipynb",
      "provenance": [],
      "collapsed_sections": [],
      "include_colab_link": true
    },
    "kernelspec": {
      "name": "python3",
      "display_name": "Python 3"
    }
  },
  "cells": [
    {
      "cell_type": "markdown",
      "metadata": {
        "id": "view-in-github",
        "colab_type": "text"
      },
      "source": [
        "<a href=\"https://colab.research.google.com/github/alvas-education-foundation/mamatha_m/blob/master/Copy_of_Untitled1.ipynb\" target=\"_parent\"><img src=\"https://colab.research.google.com/assets/colab-badge.svg\" alt=\"Open In Colab\"/></a>"
      ]
    },
    {
      "cell_type": "code",
      "metadata": {
        "id": "uF-UM8shhr8e",
        "colab_type": "code",
        "colab": {
          "base_uri": "https://localhost:8080/",
          "height": 104
        },
        "outputId": "b5491ef5-1e71-426d-e193-e46f460aaab4"
      },
      "source": [
        "#1.\n",
        "'''1\n",
        "2    3\n",
        "3    4   5\n",
        "4    5   6   7\n",
        "\n",
        "'''\n",
        "n=int(input(\"Enter the Number \"));\n",
        "for i in range(n+1):\n",
        "    for j in range(i):\n",
        "        print (j+i ,end=\" \")\n",
        "    print('')"
      ],
      "execution_count": null,
      "outputs": [
        {
          "output_type": "stream",
          "text": [
            "Enter the Number 3\n",
            "\n",
            "1 \n",
            "2 3 \n",
            "3 4 5 \n"
          ],
          "name": "stdout"
        }
      ]
    },
    {
      "cell_type": "code",
      "metadata": {
        "id": "tQ69UBtih6sd",
        "colab_type": "code",
        "colab": {
          "base_uri": "https://localhost:8080/",
          "height": 173
        },
        "outputId": "dc7cb233-29a4-4ae4-d02e-dae32969cf95"
      },
      "source": [
        "#2.Function to demonstrate printing pattern \n",
        "def pypart(n): \n",
        "    for i in range(0, n): \n",
        "        for j in range(0, i+1): \n",
        "          \n",
        "            print(\"* \",end=\"\") \n",
        "    \n",
        "        print(\"\\r\") \n",
        "  \n",
        "n = int(input(\"Enter the number: \"))\n",
        "pypart(n)"
      ],
      "execution_count": null,
      "outputs": [
        {
          "output_type": "stream",
          "text": [
            "Enter the number: 8\n",
            "* \n",
            "* * \n",
            "* * * \n",
            "* * * * \n",
            "* * * * * \n",
            "* * * * * * \n",
            "* * * * * * * \n",
            "* * * * * * * * \n"
          ],
          "name": "stdout"
        }
      ]
    },
    {
      "cell_type": "code",
      "metadata": {
        "id": "XRGsFTcQiDRv",
        "colab_type": "code",
        "colab": {
          "base_uri": "https://localhost:8080/",
          "height": 156
        },
        "outputId": "9b516ae5-a436-435e-a3c5-11f804267f71"
      },
      "source": [
        "#3 Enter number 5\n",
        "'''\n",
        "5\n",
        "4 5\n",
        "3 4 5\n",
        "2 3 4 5\n",
        "1 2 3 4 5\n",
        "'''\n",
        "\n",
        "n=int(input(\"Enter the Number \"));\n",
        "for i in range(n+1):\n",
        "    for j in range(i,0,-1 ):\n",
        "        print (n-j+1 ,end=\" \")\n",
        "    print('')"
      ],
      "execution_count": null,
      "outputs": [
        {
          "output_type": "stream",
          "text": [
            "Enter the Number 6\n",
            "\n",
            "6 \n",
            "5 6 \n",
            "4 5 6 \n",
            "3 4 5 6 \n",
            "2 3 4 5 6 \n",
            "1 2 3 4 5 6 \n"
          ],
          "name": "stdout"
        }
      ]
    },
    {
      "cell_type": "code",
      "metadata": {
        "id": "xcqJCU4yiJb6",
        "colab_type": "code",
        "colab": {
          "base_uri": "https://localhost:8080/",
          "height": 139
        },
        "outputId": "25d28f5c-d169-4e4f-b395-3ecc8888dcff"
      },
      "source": [
        "'''\n",
        "4.5 4 3 2 1\n",
        "4 3 2 1\n",
        "3 2 1\n",
        "2 1\n",
        "1\n",
        "'''\n",
        "\n",
        "\n",
        "number = int(input(\"Enter the number: \"))\n",
        "for i in range(0, number + 1):\n",
        "    for j in range(number - i, 0, -1):\n",
        "        print(j, end=' ')\n",
        "    print()"
      ],
      "execution_count": null,
      "outputs": [
        {
          "output_type": "stream",
          "text": [
            "Enter the number: 5\n",
            "5 4 3 2 1 \n",
            "4 3 2 1 \n",
            "3 2 1 \n",
            "2 1 \n",
            "1 \n",
            "\n"
          ],
          "name": "stdout"
        }
      ]
    },
    {
      "cell_type": "code",
      "metadata": {
        "id": "amvcsb38iOAt",
        "colab_type": "code",
        "colab": {
          "base_uri": "https://localhost:8080/",
          "height": 52
        },
        "outputId": "f09dde68-7d9b-4e84-84ba-3c6695e055ff"
      },
      "source": [
        "#6.Find the length of a string without using len functions\n",
        "str = input(\"Enter a string: \")\n",
        "counter = 0\n",
        "for s in str:\n",
        "      counter = counter+1\n",
        "print(\"Length of the input string is:\", counter)"
      ],
      "execution_count": null,
      "outputs": [
        {
          "output_type": "stream",
          "text": [
            "Enter a string: 9\n",
            "Length of the input string is: 1\n"
          ],
          "name": "stdout"
        }
      ]
    },
    {
      "cell_type": "code",
      "metadata": {
        "id": "lrNvCoNEiW9Z",
        "colab_type": "code",
        "colab": {
          "base_uri": "https://localhost:8080/",
          "height": 69
        },
        "outputId": "849852ce-4a16-41fe-9ae1-7be07315b542"
      },
      "source": [
        "#7. Find the no of words and characters in a string\n",
        "word_count = 0\n",
        "char_count = 0\n",
        "\n",
        "\n",
        "usr_input = input(\"Enter a string : \")\n",
        "\n",
        "split_string = usr_input.split()\n",
        "\n",
        "word_count = len(split_string)\n",
        "\n",
        "\n",
        "for word in split_string:\n",
        "    \n",
        "    char_count += len(word)\n",
        "print(\"Total words : {}\".format(word_count))\n",
        "print(\"Total characters : {}\".format(char_count))"
      ],
      "execution_count": null,
      "outputs": [
        {
          "output_type": "stream",
          "text": [
            "Enter a string : 5\n",
            "Total words : 1\n",
            "Total characters : 1\n"
          ],
          "name": "stdout"
        }
      ]
    },
    {
      "cell_type": "code",
      "metadata": {
        "id": "kWW0lCx4ie3J",
        "colab_type": "code",
        "colab": {
          "base_uri": "https://localhost:8080/",
          "height": 35
        },
        "outputId": "03cfa417-8ee6-482e-c4fb-1b1893fd8984"
      },
      "source": [
        "#8.Find the no of occurrences of a word in a string\n",
        "# define string\n",
        "string = \"Python is awesome, isn't it?\"\n",
        "substring = \"is\"\n",
        "\n",
        "count = string.count(substring)\n",
        "\n",
        "# print count\n",
        "print(\"The count is:\", count)"
      ],
      "execution_count": null,
      "outputs": [
        {
          "output_type": "stream",
          "text": [
            "The count is: 2\n"
          ],
          "name": "stdout"
        }
      ]
    }
  ]
}